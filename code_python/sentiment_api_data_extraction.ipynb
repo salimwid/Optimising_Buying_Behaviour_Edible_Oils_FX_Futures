{
 "cells": [
  {
   "cell_type": "code",
   "execution_count": 8,
   "id": "a193b147",
   "metadata": {},
   "outputs": [
    {
     "name": "stderr",
     "output_type": "stream",
     "text": [
      "[nltk_data] Downloading package vader_lexicon to C:\\Users\\Cheng\n",
      "[nltk_data]     An\\AppData\\Roaming\\nltk_data...\n",
      "[nltk_data]   Package vader_lexicon is already up-to-date!\n"
     ]
    },
    {
     "data": {
      "text/plain": [
       "True"
      ]
     },
     "execution_count": 8,
     "metadata": {},
     "output_type": "execute_result"
    }
   ],
   "source": [
    "import datetime\n",
    "import numpy as np\n",
    "import pandas as pd\n",
    "import matplotlib.pyplot as plt\n",
    "import datetime as dt\n",
    "import re\n",
    "import nltk\n",
    "from nltk.sentiment.vader import SentimentIntensityAnalyzer\n",
    "import snscrape.modules.twitter as sntwitter\n",
    "from textblob import TextBlob\n",
    "import warnings\n",
    "warnings.filterwarnings(\"ignore\")\n",
    "\n",
    "nltk.download('vader_lexicon')"
   ]
  },
  {
   "cell_type": "markdown",
   "id": "d03e1ca0",
   "metadata": {},
   "source": [
    "# SNSCRAPE to scrape through Twitter"
   ]
  },
  {
   "cell_type": "code",
   "execution_count": null,
   "id": "b60fee14",
   "metadata": {},
   "outputs": [],
   "source": [
    "#Creating list to append tweet data\n",
    "tweets_list = []\n",
    "#keyword\n",
    "keywords = ['SoyBeans','Rapeseed oil','Palm Oil','Sunflower oil', 'crude oil']\n",
    "# No of tweets\n",
    "noOfTweet = 50000\n",
    "\n",
    "\n",
    "#Loop through important usernames:\n",
    "user_names = open('Commodities.txt','r')\n",
    "\n",
    "\n",
    "#for user in user_names:\n",
    "def twitter_scrap (keyword,user):\n",
    "    for i,tweet in enumerate(sntwitter.TwitterSearchScraper(\"from:\"+ user +\" \"+keyword ).get_items()):\n",
    "        if i > int(noOfTweet):\n",
    "            break\n",
    "        tweets_list.append([tweet.date, tweet.id, tweet.content, tweet.username, keyword])\n",
    "usernames=[]        \n",
    "for user in user_names:\n",
    "    usernames.append(user)\n",
    "    \n",
    "for keyword in keywords:\n",
    "    for user in usernames:\n",
    "        print (keyword,user)\n",
    "        twitter_scrap(keyword,user)"
   ]
  },
  {
   "cell_type": "markdown",
   "id": "36875129",
   "metadata": {},
   "source": [
    "# Creating and cleaning the dataframe from the tweets list above "
   ]
  },
  {
   "cell_type": "code",
   "execution_count": null,
   "id": "5125102d",
   "metadata": {},
   "outputs": [],
   "source": [
    "# Creating a dataframe from the tweets list above \n",
    "df = pd.DataFrame(tweets_list, columns=['Datetime', 'Tweet Id', 'Text', 'Username','oil'])\n",
    "df['Datetime'] = pd.to_datetime(df['Datetime'],unit='ms').dt.tz_convert('Asia/Singapore')\n",
    "df['Datetime'] = df['Datetime'].apply(lambda a: datetime.datetime.strftime(a,\"%d-%m-%Y %H:%M:%S\"))\n",
    "df['Datetime'] = pd.to_datetime(df['Datetime'])          \n",
    "df['Tweet Id'] = ('\"'+ df['Tweet Id'].astype(str) + '\"')      \n",
    "\n",
    "# Create a function to clean the tweets\n",
    "def cleanTxt(text):\n",
    "    text = re.sub('@[A-Za-z0–9]+', '', text) #Removing @mentions\n",
    "    text = re.sub('#', '', text) # Removing '#' hash tag\n",
    "    text = re.sub('RT[\\s]+', '', text) # Removing RT\n",
    "    text = re.sub('https?:\\/\\/\\S+', '', text) # Removing hyperlink\n",
    "    return text\n",
    "\n",
    "df[\"Text\"] = df[\"Text\"].apply(cleanTxt)\n",
    "df.head()"
   ]
  },
  {
   "cell_type": "code",
   "execution_count": null,
   "id": "673bd410",
   "metadata": {},
   "outputs": [],
   "source": [
    "# Saving it into csv\n",
    "df.to_csv('tweet_commodities.csv')"
   ]
  },
  {
   "cell_type": "markdown",
   "id": "48c9d207",
   "metadata": {},
   "source": [
    "# Sentiment Analysis\n",
    "\n",
    "**NLTK**"
   ]
  },
  {
   "cell_type": "code",
   "execution_count": null,
   "id": "7cfb6dea",
   "metadata": {},
   "outputs": [],
   "source": [
    "#Sentiment Analysis\n",
    "def percentage(part,whole):\n",
    "    return 100 * float(part)/float(whole)\n",
    "\n",
    "#Iterating over the tweets in the dataframe\n",
    "\n",
    "def apply_analysis(tweet):\n",
    "    return SentimentIntensityAnalyzer().polarity_scores(tweet)\n",
    "\n",
    "def sentimental_analysis(df):\n",
    "    if df['neg'] > df['pos']:\n",
    "        return 'Negative'\n",
    "    elif df['pos'] > df['neg']:\n",
    "        return 'Positive'\n",
    "    elif df['pos'] == df['neg']:\n",
    "        return 'Neutral'"
   ]
  },
  {
   "cell_type": "code",
   "execution_count": null,
   "id": "7453d8f4",
   "metadata": {},
   "outputs": [],
   "source": [
    "df[['neg','neu','pos','compound']] = df['summary'].apply(apply_analysis).apply(pd.Series)\n",
    "\n",
    "df['Sentiment_NLTK'] = df.apply(sentimental_analysis, axis = 1)\n",
    "df.head()"
   ]
  },
  {
   "cell_type": "markdown",
   "id": "89200da5",
   "metadata": {},
   "source": [
    "**Textblob**"
   ]
  },
  {
   "cell_type": "code",
   "execution_count": 157,
   "id": "c9779508",
   "metadata": {},
   "outputs": [],
   "source": [
    "def getSubjectivity(twt):\n",
    "    return TextBlob(twt).sentiment.subjectivity\n",
    "def getPolarity(twt):\n",
    "    return TextBlob(twt).sentiment.polarity\n",
    "def getSentiment(score):\n",
    "    if score<0:\n",
    "        return 'Negative'\n",
    "    elif score==0:\n",
    "        return 'Neutral'\n",
    "    else:\n",
    "        return 'Positive'"
   ]
  },
  {
   "cell_type": "code",
   "execution_count": null,
   "id": "356aae7a",
   "metadata": {},
   "outputs": [],
   "source": [
    "df['Subjectivity']=df['summary'].apply(getSubjectivity)\n",
    "df['Polarity']=df['summary'].apply(getPolarity)    \n",
    "df['Sentiment_TB']=df['Polarity'].apply(getSentiment)"
   ]
  },
  {
   "cell_type": "code",
   "execution_count": null,
   "id": "82166f14",
   "metadata": {},
   "outputs": [],
   "source": [
    "# Saving Twitter CSV\n",
    "df.to_csv('Twitter_sentiments.csv', encoding='utf-8-sig' ,index= False)"
   ]
  },
  {
   "cell_type": "markdown",
   "id": "e3978699",
   "metadata": {},
   "source": [
    "# Google API"
   ]
  },
  {
   "cell_type": "code",
   "execution_count": 1,
   "id": "817960a3",
   "metadata": {},
   "outputs": [],
   "source": [
    "import calendar\n",
    "import numpy as np\n",
    "import time\n",
    "from GoogleNews import GoogleNews\n",
    "import pandas as pd"
   ]
  },
  {
   "cell_type": "code",
   "execution_count": 3,
   "id": "dc3e3974",
   "metadata": {},
   "outputs": [],
   "source": [
    "def gns (m,y,last_day,key):\n",
    "    googlenews = GoogleNews(start= \"{}/01/{}\".format(str(m).zfill(2),y),end=\"{}/{}/{}\".format(str(m).zfill(2),last_day,y) )\n",
    "    googlenews.search(key)\n",
    "    data = googlenews.result()\n",
    "    googlenews.clear()\n",
    "    return(data)"
   ]
  },
  {
   "cell_type": "code",
   "execution_count": null,
   "id": "dcb58884",
   "metadata": {},
   "outputs": [],
   "source": [
    "appended_data = []\n",
    "month = list(np.arange(1,13))\n",
    "\n",
    "# Set the timeline you want\n",
    "year = list(np.arange(2018,2022))\n",
    "\n",
    "news_update = -1\n",
    "\n",
    "# Commodity [sunflower oil price, soybean price, palm oil price, coconut oil price, crude oil price]\n",
    "# Change the key manually as google will block the api after awhile. Need to wait for sometime before searching another key.\n",
    "\n",
    "key = 'palm oil price'\n",
    "for y in year:\n",
    "    for m in month:\n",
    "        if not (y == 2022 and m > 3):\n",
    "            last_day = calendar.monthrange(y, m)[1]\n",
    "            print(\"{}/01/{}\".format(str(m).zfill(2),y),\"{}/{}/{}\".format(str(m).zfill(2),last_day,y))\n",
    "                   \n",
    "            data = gns(m,y,last_day,key)\n",
    "            print('1st check if there is search data from Google: '+ str(len(data)))\n",
    "            while len(data) == 0:\n",
    "                print('Retrying searching google for Data')\n",
    "                time.sleep(10)\n",
    "                data = gns(m,y,last_day,key)\n",
    "                \n",
    "            gn = pd.DataFrame(data)\n",
    "            appended_data.append(gn)\n",
    "            print('2nd check if there is search data from Google: ' + str(len(data)))\n",
    "            time.sleep(10)\n",
    "            \n",
    "gn = pd.concat(appended_data)\n",
    "gn = gn.reset_index(drop=True)\n",
    "gn.to_csv('./Google News/PKO_.csv', index = False)"
   ]
  },
  {
   "cell_type": "markdown",
   "id": "a25ded30",
   "metadata": {},
   "source": [
    "# Generating summary from the google news"
   ]
  },
  {
   "cell_type": "code",
   "execution_count": 143,
   "id": "2747dd1f",
   "metadata": {},
   "outputs": [
    {
     "name": "stderr",
     "output_type": "stream",
     "text": [
      "[nltk_data] Downloading package punkt to C:\\Users\\Cheng\n",
      "[nltk_data]     An\\AppData\\Roaming\\nltk_data...\n",
      "[nltk_data]   Package punkt is already up-to-date!\n"
     ]
    }
   ],
   "source": [
    "import pandas as pd\n",
    "import newspaper\n",
    "from newspaper import Article\n",
    "from newspaper import Config\n",
    "import nltk\n",
    "import random\n",
    "nltk.download('punkt')\n",
    "import re\n",
    "import os"
   ]
  },
  {
   "cell_type": "code",
   "execution_count": 144,
   "id": "220c2ea2",
   "metadata": {},
   "outputs": [],
   "source": [
    "# to circumvent from website blocking you\n",
    "USER_AGENTS = '''Mozilla/5.0 (Windows NT 6.1) AppleWebKit/537.36 (KHTML, like Gecko) Chrome/41.0.2228.0 Safari/537.36\n",
    "Mozilla/5.0 (Macintosh; Intel Mac OS X 10_10_1) AppleWebKit/537.36 (KHTML, like Gecko) Chrome/41.0.2227.1 Safari/537.36\n",
    "Mozilla/5.0 (X11; Linux x86_64) AppleWebKit/537.36 (KHTML, like Gecko) Chrome/41.0.2227.0 Safari/537.36\n",
    "Mozilla/5.0 (Windows NT 6.1; WOW64) AppleWebKit/537.36 (KHTML, like Gecko) Chrome/41.0.2227.0 Safari/537.36\n",
    "Mozilla/5.0 (Windows NT 6.3; WOW64) AppleWebKit/537.36 (KHTML, like Gecko) Chrome/41.0.2226.0 Safari/537.36\n",
    "Mozilla/5.0 (Windows NT 6.4; WOW64) AppleWebKit/537.36 (KHTML, like Gecko) Chrome/41.0.2225.0 Safari/537.36\n",
    "Mozilla/5.0 (Windows NT 6.3; WOW64) AppleWebKit/537.36 (KHTML, like Gecko) Chrome/41.0.2225.0 Safari/537.36\n",
    "Mozilla/5.0 (Windows NT 5.1) AppleWebKit/537.36 (KHTML, like Gecko) Chrome/41.0.2224.3 Safari/537.36\n",
    "Mozilla/5.0 (Windows NT 10.0) AppleWebKit/537.36 (KHTML, like Gecko) Chrome/40.0.2214.93 Safari/537.36\n",
    "Mozilla/5.0 (Macintosh; Intel Mac OS X 10_10_1) AppleWebKit/537.36 (KHTML, like Gecko) Chrome/37.0.2062.124 Safari/537.36\n",
    "Mozilla/5.0 (Windows NT 6.3; Win64; x64) AppleWebKit/537.36 (KHTML, like Gecko) Chrome/37.0.2049.0 Safari/537.36\n",
    "Mozilla/5.0 (Windows NT 4.0; WOW64) AppleWebKit/537.36 (KHTML, like Gecko) Chrome/37.0.2049.0 Safari/537.36\n",
    "Mozilla/5.0 (Windows NT 6.1; WOW64) AppleWebKit/537.36 (KHTML, like Gecko) Chrome/36.0.1985.67 Safari/537.36\n",
    "Mozilla/5.0 (Windows NT 5.1) AppleWebKit/537.36 (KHTML, like Gecko) Chrome/36.0.1985.67 Safari/537.36\n",
    "Mozilla/5.0 (X11; OpenBSD i386) AppleWebKit/537.36 (KHTML, like Gecko) Chrome/36.0.1985.125 Safari/537.36\n",
    "Mozilla/5.0 (Macintosh; Intel Mac OS X 10_9_2) AppleWebKit/537.36 (KHTML, like Gecko) Chrome/36.0.1944.0 Safari/537.36\n",
    "Mozilla/5.0 (Windows NT 5.1) AppleWebKit/537.36 (KHTML, like Gecko) Chrome/35.0.3319.102 Safari/537.36\n",
    "Mozilla/5.0 (Windows NT 5.1) AppleWebKit/537.36 (KHTML, like Gecko) Chrome/35.0.2309.372 Safari/537.36\n",
    "Mozilla/5.0 (Windows NT 5.1) AppleWebKit/537.36 (KHTML, like Gecko) Chrome/35.0.2117.157 Safari/537.36\n",
    "Mozilla/5.0 (Macintosh; Intel Mac OS X 10_9_3) AppleWebKit/537.36 (KHTML, like Gecko) Chrome/35.0.1916.47 Safari/537.36\n",
    "Mozilla/5.0 (Windows NT 5.1) AppleWebKit/537.36 (KHTML, like Gecko) Chrome/34.0.1866.237 Safari/537.36\n",
    "Mozilla/5.0 (X11; Linux x86_64) AppleWebKit/537.36 (KHTML, like Gecko) Chrome/34.0.1847.137 Safari/4E423F\n",
    "Mozilla/5.0 (Windows NT 5.1) AppleWebKit/537.36 (KHTML, like Gecko) Chrome/34.0.1847.116 Safari/537.36 Mozilla/5.0 (iPad; U; CPU OS 3_2 like Mac OS X; en-us) AppleWebKit/531.21.10 (KHTML, like Gecko) Version/4.0.4 Mobile/7B334b Safari/531.21.10\n",
    "Mozilla/5.0 (X11; Linux x86_64) AppleWebKit/537.36 (KHTML, like Gecko) Chrome/33.0.1750.517 Safari/537.36\n",
    "Mozilla/5.0 (Windows NT 6.2; Win64; x64) AppleWebKit/537.36 (KHTML, like Gecko) Chrome/32.0.1667.0 Safari/537.36\n",
    "Mozilla/5.0 (Macintosh; Intel Mac OS X 10_9_0) AppleWebKit/537.36 (KHTML, like Gecko) Chrome/32.0.1664.3 Safari/537.36\n",
    "Mozilla/5.0 (Macintosh; Intel Mac OS X 10_8_0) AppleWebKit/537.36 (KHTML, like Gecko) Chrome/32.0.1664.3 Safari/537.36\n",
    "Mozilla/5.0 (Windows NT 5.1) AppleWebKit/537.36 (KHTML, like Gecko) Chrome/31.0.1650.16 Safari/537.36\n",
    "Mozilla/5.0 (Windows NT 6.1; WOW64) AppleWebKit/537.36 (KHTML, like Gecko) Chrome/31.0.1623.0 Safari/537.36\n",
    "Mozilla/5.0 (Windows NT 6.2; WOW64) AppleWebKit/537.36 (KHTML, like Gecko) Chrome/30.0.1599.17 Safari/537.36\n",
    "Mozilla/5.0 (Windows NT 6.1; WOW64) AppleWebKit/537.36 (KHTML, like Gecko) Chrome/29.0.1547.62 Safari/537.36\n",
    "Mozilla/5.0 (X11; CrOS i686 4319.74.0) AppleWebKit/537.36 (KHTML, like Gecko) Chrome/29.0.1547.57 Safari/537.36\n",
    "Mozilla/5.0 (Windows NT 6.2; WOW64) AppleWebKit/537.36 (KHTML, like Gecko) Chrome/29.0.1547.2 Safari/537.36\n",
    "Mozilla/5.0 (Windows NT 6.1) AppleWebKit/537.36 (KHTML, like Gecko) Chrome/28.0.1468.0 Safari/537.36\n",
    "Mozilla/5.0 (Windows NT 6.2) AppleWebKit/537.36 (KHTML, like Gecko) Chrome/28.0.1467.0 Safari/537.36\n",
    "Mozilla/5.0 (Windows NT 6.2) AppleWebKit/537.36 (KHTML, like Gecko) Chrome/28.0.1464.0 Safari/537.36\n",
    "Mozilla/5.0 (Windows NT 6.2; WOW64) AppleWebKit/537.36 (KHTML, like Gecko) Chrome/27.0.1500.55 Safari/537.36\n",
    "Mozilla/5.0 (Windows NT 6.2; WOW64) AppleWebKit/537.36 (KHTML, like Gecko) Chrome/27.0.1453.93 Safari/537.36\n",
    "Mozilla/5.0 (Windows NT 6.1; WOW64) AppleWebKit/537.36 (KHTML, like Gecko) Chrome/27.0.1453.93 Safari/537.36\n",
    "Mozilla/5.0 (Windows NT 6.1) AppleWebKit/537.36 (KHTML, like Gecko) Chrome/27.0.1453.93 Safari/537.36\n",
    "Mozilla/5.0 (Windows NT 5.1) AppleWebKit/537.36 (KHTML, like Gecko) Chrome/27.0.1453.93 Safari/537.36\n",
    "Mozilla/5.0 (Macintosh; Intel Mac OS X 10_8_3) AppleWebKit/537.36 (KHTML, like Gecko) Chrome/27.0.1453.93 Safari/537.36\n",
    "Mozilla/5.0 (Windows NT 6.2; WOW64) AppleWebKit/535.24 (KHTML, like Gecko) Chrome/19.0.1055.1 Safari/535.24\n",
    "Mozilla/5.0 (Macintosh; Intel Mac OS X 10_7_2) AppleWebKit/535.24 (KHTML, like Gecko) Chrome/19.0.1055.1 Safari/535.24\n",
    "Mozilla/5.0 (Macintosh; Intel Mac OS X 10_7_3) AppleWebKit/535.22 (KHTML, like Gecko) Chrome/19.0.1047.0 Safari/535.22\n",
    "Mozilla/5.0 (X11; Linux x86_64) AppleWebKit/535.21 (KHTML, like Gecko) Chrome/19.0.1042.0 Safari/535.21\n",
    "Mozilla/5.0 (X11; Linux i686) AppleWebKit/535.21 (KHTML, like Gecko) Chrome/19.0.1041.0 Safari/535.21\n",
    "Mozilla/5.0 (Macintosh; Intel Mac OS X 10_7_3) AppleWebKit/535.20 (KHTML, like Gecko) Chrome/19.0.1036.7 Safari/535.20\n",
    "Mozilla/5.0 (Windows NT 6.1) AppleWebKit/535.2 (KHTML, like Gecko) Chrome/18.6.872.0 Safari/535.2 UNTRUSTED/1.0 3gpp-gba UNTRUSTED/1.0\n",
    "Mozilla/5.0 (Macintosh; AMD Mac OS X 10_8_2) AppleWebKit/535.22 (KHTML, like Gecko) Chrome/18.6.872\n",
    "Mozilla/5.0 (X11; CrOS i686 1660.57.0) AppleWebKit/535.19 (KHTML, like Gecko) Chrome/18.0.1025.46 Safari/535.19\n",
    "Mozilla/5.0 (Windows NT 6.0; WOW64) AppleWebKit/535.19 (KHTML, like Gecko) Chrome/18.0.1025.45 Safari/535.19\n",
    "Mozilla/5.0 (Macintosh; Intel Mac OS X 10_7_2) AppleWebKit/535.19 (KHTML, like Gecko) Chrome/18.0.1025.45 Safari/535.19\n",
    "Mozilla/5.0 (Macintosh; Intel Mac OS X 10_6_8) AppleWebKit/535.19 (KHTML, like Gecko) Chrome/18.0.1025.45 Safari/535.19\n",
    "Mozilla/5.0 (Macintosh; Intel Mac OS X 10_6_8) AppleWebKit/535.19 (KHTML, like Gecko) Chrome/18.0.1025.166 Safari/535.19\n",
    "Mozilla/5.0 (Macintosh; Intel Mac OS X 10_5_8) AppleWebKit/535.19 (KHTML, like Gecko) Chrome/18.0.1025.151 Safari/535.19\n",
    "Mozilla/5.0 (X11; Linux x86_64) AppleWebKit/535.19 (KHTML, like Gecko) Ubuntu/11.10 Chromium/18.0.1025.142 Chrome/18.0.1025.142 Safari/535.19\n",
    "Mozilla/5.0 (Macintosh; Intel Mac OS X 10_6_8) AppleWebKit/535.19 (KHTML, like Gecko) Chrome/18.0.1025.11 Safari/535.19\n",
    "Mozilla/5.0 (X11; Linux x86_64) AppleWebKit/535.11 (KHTML, like Gecko) Chrome/17.0.963.66 Safari/535.11\n",
    "Mozilla/5.0 (X11; Linux i686) AppleWebKit/535.11 (KHTML, like Gecko) Chrome/17.0.963.66 Safari/535.11\n",
    "Mozilla/5.0 (Windows NT 6.2; WOW64) AppleWebKit/535.11 (KHTML, like Gecko) Chrome/17.0.963.66 Safari/535.11\n",
    "Mozilla/5.0 (Windows NT 6.2) AppleWebKit/535.11 (KHTML, like Gecko) Chrome/17.0.963.66 Safari/535.11\n",
    "Mozilla/5.0 (Windows NT 6.1; WOW64) AppleWebKit/535.11 (KHTML, like Gecko) Chrome/17.0.963.66 Safari/535.11\n",
    "Mozilla/5.0 (Windows NT 6.1) AppleWebKit/535.11 (KHTML, like Gecko) Chrome/17.0.963.66 Safari/535.11\n",
    "Mozilla/5.0 (Windows NT 6.0; WOW64) AppleWebKit/535.11 (KHTML, like Gecko) Chrome/17.0.963.66 Safari/535.11\n",
    "Mozilla/5.0 (Windows NT 6.0) AppleWebKit/535.11 (KHTML, like Gecko) Chrome/17.0.963.66 Safari/535.11\n",
    "Mozilla/5.0 (Windows NT 5.1) AppleWebKit/535.11 (KHTML, like Gecko) Chrome/17.0.963.66 Safari/535.11\n",
    "Mozilla/5.0 (Macintosh; Intel Mac OS X 10_7_3) AppleWebKit/535.11 (KHTML, like Gecko) Chrome/17.0.963.66 Safari/535.11\n",
    "Mozilla/5.0 (Macintosh; Intel Mac OS X 10_7_2) AppleWebKit/535.11 (KHTML, like Gecko) Chrome/17.0.963.66 Safari/535.11\n",
    "Mozilla/5.0 (Macintosh; Intel Mac OS X 10_6_8) AppleWebKit/535.11 (KHTML, like Gecko) Chrome/17.0.963.66 Safari/535.11\n",
    "Mozilla/5.0 (Macintosh; Intel Mac OS X 10_5_8) AppleWebKit/535.11 (KHTML, like Gecko) Chrome/17.0.963.66 Safari/535.11\n",
    "Mozilla/5.0 (X11; Linux x86_64) AppleWebKit/535.11 (KHTML, like Gecko) Ubuntu/11.10 Chromium/17.0.963.65 Chrome/17.0.963.65 Safari/535.11\n",
    "Mozilla/5.0 (X11; Linux x86_64) AppleWebKit/535.11 (KHTML, like Gecko) Ubuntu/11.04 Chromium/17.0.963.65 Chrome/17.0.963.65 Safari/535.11\n",
    "Mozilla/5.0 (X11; Linux x86_64) AppleWebKit/535.11 (KHTML, like Gecko) Ubuntu/10.10 Chromium/17.0.963.65 Chrome/17.0.963.65 Safari/535.11\n",
    "Mozilla/5.0 (X11; Linux i686) AppleWebKit/535.11 (KHTML, like Gecko) Ubuntu/11.10 Chromium/17.0.963.65 Chrome/17.0.963.65 Safari/535.11\n",
    "Mozilla/5.0 (Windows NT 5.1) AppleWebKit/534.24 (KHTML, like Gecko) Chrome/11.0.700.3 Safari/534.24\n",
    "Mozilla/5.0 (Windows NT 6.1) AppleWebKit/534.24 (KHTML, like Gecko) Chrome/11.0.699.0 Safari/534.24\n",
    "Mozilla/5.0 (Windows NT 6.0; WOW64) AppleWebKit/534.24 (KHTML, like Gecko) Chrome/11.0.699.0 Safari/534.24\n",
    "Mozilla/5.0 (Macintosh; Intel Mac OS X 10_6_6) AppleWebKit/534.24 (KHTML, like Gecko) Chrome/11.0.698.0 Safari/534.24\n",
    "Mozilla/5.0 (Windows NT 6.1) AppleWebKit/534.24 (KHTML, like Gecko) Chrome/11.0.697.0 Safari/534.24\n",
    "Mozilla/5.0 (Macintosh; Intel Mac OS X 10_6_8) AppleWebKit/534.24 (KHTML, like Gecko) Chrome/11.0.696.71 Safari/534.24\n",
    "Mozilla/5.0 (Windows NT 6.1) AppleWebKit/534.24 (KHTML, like Gecko) Chrome/11.0.696.68 Safari/534.24\n",
    "Mozilla/5.0 (Macintosh; Intel Mac OS X 10_6_7) AppleWebKit/534.24 (KHTML, like Gecko) Chrome/11.0.696.68 Safari/534.24\n",
    "Mozilla/5.0 (Macintosh; Intel Mac OS X 10_5_8) AppleWebKit/534.24 (KHTML, like Gecko) Chrome/11.0.696.68 Safari/534.24\n",
    "Mozilla/5.0 Slackware/13.37 (X11; U; Linux x86_64; en-US) AppleWebKit/534.16 (KHTML, like Gecko) Chrome/11.0.696.50\n",
    "Mozilla/5.0 (Windows NT 5.1) AppleWebKit/534.24 (KHTML, like Gecko) Chrome/11.0.696.43 Safari/534.24\n",
    "Mozilla/5.0 (X11; Linux x86_64) AppleWebKit/534.24 (KHTML, like Gecko) Chrome/11.0.696.34 Safari/534.24\n",
    "Mozilla/5.0 (Windows NT 6.0; WOW64) AppleWebKit/534.24 (KHTML, like Gecko) Chrome/11.0.696.34 Safari/534.24\n",
    "Mozilla/5.0 (X11; Linux x86_64) AppleWebKit/534.24 (KHTML, like Gecko) Chrome/11.0.696.3 Safari/534.24\n",
    "Mozilla/5.0 (Windows NT 6.1) AppleWebKit/534.24 (KHTML, like Gecko) Chrome/11.0.696.3 Safari/534.24\n",
    "Mozilla/5.0 (Windows NT 6.0) AppleWebKit/534.24 (KHTML, like Gecko) Chrome/11.0.696.3 Safari/534.24\n",
    "Mozilla/5.0 (X11; Linux i686) AppleWebKit/534.24 (KHTML, like Gecko) Chrome/11.0.696.14 Safari/534.24\n",
    "Mozilla/5.0 (Windows NT 6.1; WOW64) AppleWebKit/534.24 (KHTML, like Gecko) Chrome/11.0.696.12 Safari/534.24\n",
    "Mozilla/5.0 (Macintosh; Intel Mac OS X 10_6_6) AppleWebKit/534.24 (KHTML, like Gecko) Chrome/11.0.696.12 Safari/534.24\n",
    "Mozilla/5.0 (X11; Linux x86_64) AppleWebKit/534.24 (KHTML, like Gecko) Ubuntu/10.04 Chromium/11.0.696.0 Chrome/11.0.696.0 Safari/534.24\n",
    "Mozilla/5.0 (Macintosh; Intel Mac OS X 10_7_0) AppleWebKit/534.24 (KHTML, like Gecko) Chrome/11.0.696.0 Safari/534.24\n",
    "Mozilla/5.0 (Windows NT 6.1) AppleWebKit/534.24 (KHTML, like Gecko) Chrome/11.0.694.0 Safari/534.24\n",
    "Mozilla/5.0 (X11; Linux i686) AppleWebKit/534.23 (KHTML, like Gecko) Chrome/11.0.686.3 Safari/534.23\n",
    "Mozilla/5.0 (Windows; U; Windows NT 5.1; en-US) AppleWebKit/534.21 (KHTML, like Gecko) Chrome/11.0.682.0 Safari/534.21\n",
    "Mozilla/5.0 (Windows; U; Windows NT 5.1; en-US) AppleWebKit/534.21 (KHTML, like Gecko) Chrome/11.0.678.0 Safari/534.21\n",
    "Mozilla/5.0 (Macintosh; U; Intel Mac OS X 10_7_0; en-US) AppleWebKit/534.21 (KHTML, like Gecko) Chrome/11.0.678.0 Safari/534.21\n",
    "Mozilla/5.0 (Windows; U; Windows NT 6.0; en-US) AppleWebKit/534.20 (KHTML, like Gecko) Chrome/11.0.672.2 Safari/534.20\n",
    "Mozilla/5.0 (Windows NT) AppleWebKit/534.20 (KHTML, like Gecko) Chrome/11.0.672.2 Safari/534.20\n",
    "Mozilla/5.0 (Macintosh; U; Intel Mac OS X 10_6_6; en-US) AppleWebKit/534.20 (KHTML, like Gecko) Chrome/11.0.672.2 Safari/534.20\n",
    "Mozilla/5.0 (Windows; U; Windows NT 6.1; en-US) AppleWebKit/534.20 (KHTML, like Gecko) Chrome/11.0.669.0 Safari/534.20\n",
    "Mozilla/5.0 (Windows; U; Windows NT 5.1; en-US) AppleWebKit/534.19 (KHTML, like Gecko) Chrome/11.0.661.0 Safari/534.19\n",
    "Mozilla/5.0 (Windows; U; Windows NT 5.1; en-US) AppleWebKit/534.18 (KHTML, like Gecko) Chrome/11.0.661.0 Safari/534.18\n",
    "Mozilla/5.0 (Macintosh; U; Intel Mac OS X 10_6_6; en-US) AppleWebKit/534.18 (KHTML, like Gecko) Chrome/11.0.660.0 Safari/534.18\n",
    "Mozilla/5.0 (Windows; U; Windows NT 6.1; en-US) AppleWebKit/534.17 (KHTML, like Gecko) Chrome/11.0.655.0 Safari/534.17\n",
    "Mozilla/5.0 (Macintosh; U; Intel Mac OS X 10_6_4; en-US) AppleWebKit/534.17 (KHTML, like Gecko) Chrome/11.0.655.0 Safari/534.17\n",
    "Mozilla/5.0 (Windows; U; Windows NT 6.1; en-US) AppleWebKit/534.17 (KHTML, like Gecko) Chrome/11.0.654.0 Safari/534.17\n",
    "Mozilla/5.0 (Windows; U; Windows NT 5.2; en-US) AppleWebKit/534.17 (KHTML, like Gecko) Chrome/11.0.652.0 Safari/534.17\n",
    "Mozilla/4.0 (Windows NT 6.3; Win64; x64) AppleWebKit/537.36 (KHTML, like Gecko) Chrome/11.0.1245.0 Safari/537.36\n",
    "Mozilla/5.0 (Windows; U; Windows NT 6.1; en-US) AppleWebKit/534.17 (KHTML, like Gecko) Chrome/10.0.649.0 Safari/534.17\n",
    "Mozilla/5.0 (Windows; U; Windows NT 6.1; de-DE) AppleWebKit/534.17 (KHTML, like Gecko) Chrome/10.0.649.0 Safari/534.17\n",
    "Mozilla/5.0 (X11; U; Linux x86_64; en-US) AppleWebKit/534.16 (KHTML, like Gecko) Chrome/10.0.648.82 Safari/534.16\n",
    "Mozilla/5.0 (X11; U; Linux armv7l; en-US) AppleWebKit/534.16 (KHTML, like Gecko) Chrome/10.0.648.204 Safari/534.16\n",
    "Mozilla/5.0 (X11; U; FreeBSD x86_64; en-US) AppleWebKit/534.16 (KHTML, like Gecko) Chrome/10.0.648.204 Safari/534.16\n",
    "Mozilla/5.0 (X11; U; FreeBSD i386; en-US) AppleWebKit/534.16 (KHTML, like Gecko) Chrome/10.0.648.204 Safari/534.16\n",
    "Mozilla/5.0 (Macintosh; U; Intel Mac OS X 10_6_5; en-US) AppleWebKit/534.16 (KHTML, like Gecko) Chrome/10.0.648.204\n",
    "Mozilla/5.0 (X11; U; Linux i686; en-US) AppleWebKit/534.16 (KHTML, like Gecko) Chrome/10.0.648.134 Safari/534.16\n",
    "Mozilla/5.0 (Windows; U; Windows NT 6.1; en-US) AppleWebKit/534.16 (KHTML, like Gecko) Chrome/10.0.648.134 Safari/534.16\n",
    "Mozilla/5.0 (Windows; U; Windows NT 5.1; en-US) AppleWebKit/534.16 (KHTML, like Gecko) Chrome/10.0.648.134 Safari/534.16\n",
    "Mozilla/5.0 (Macintosh; U; Intel Mac OS X 10_6_6; en-US) AppleWebKit/534.16 (KHTML, like Gecko) Chrome/10.0.648.134 Safari/534.16\n",
    "Mozilla/5.0 (X11; U; Linux x86_64; en-US) AppleWebKit/534.16 (KHTML, like Gecko) Ubuntu/10.10 Chromium/10.0.648.133 Chrome/10.0.648.133 Safari/534.16\n",
    "Mozilla/5.0 (X11; U; Linux x86_64; en-US) AppleWebKit/534.16 (KHTML, like Gecko) Chrome/10.0.648.133 Safari/534.16\n",
    "Mozilla/5.0 (X11; U; Linux i686; en-US) AppleWebKit/534.16 (KHTML, like Gecko) Ubuntu/10.10 Chromium/10.0.648.133 Chrome/10.0.648.133 Safari/534.16\n",
    "Mozilla/5.0 (X11; U; Linux i686; en-US) AppleWebKit/534.16 (KHTML, like Gecko) Chrome/10.0.648.133 Safari/534.16\n",
    "Mozilla/5.0 (Windows; U; Windows NT 6.0; en-US) AppleWebKit/534.16 (KHTML, like Gecko) Chrome/10.0.648.133 Safari/534.16\n",
    "Mozilla/5.0 (Macintosh; U; Intel Mac OS X 10_6_3; en-US) AppleWebKit/534.16 (KHTML, like Gecko) Chrome/10.0.648.133 Safari/534.16\n",
    "Mozilla/5.0 (Macintosh; U; Intel Mac OS X 10_6_2; en-US) AppleWebKit/534.16 (KHTML, like Gecko) Chrome/10.0.648.133 Safari/534.16\n",
    "Mozilla/5.0 (X11; U; Linux x86_64; en-US) AppleWebKit/534.16 (KHTML, like Gecko) Ubuntu/10.10 Chromium/10.0.648.127 Chrome/10.0.648.127 Safari/534.16\n",
    "Mozilla/5.0 (X11; U; Linux x86_64; en-US) AppleWebKit/534.16 (KHTML, like Gecko) Chrome/10.0.648.127 Safari/534.16\n",
    "Mozilla/5.0 (Macintosh; U; Intel Mac OS X 10_6_4; en-US) AppleWebKit/534.16 (KHTML, like Gecko) Chrome/10.0.648.127 Safari/534.16\n",
    "Mozilla/5.0 (Macintosh; U; Intel Mac OS X 10_5_8; en-US) AppleWebKit/534.16 (KHTML, like Gecko) Chrome/10.0.648.127 Safari/534.16\n",
    "Mozilla/5.0 (X11; U; Linux x86_64; en-US) AppleWebKit/534.16 (KHTML, like Gecko) Chrome/10.0.648.11 Safari/534.16\n",
    "Mozilla/5.0 (Windows; U; Windows NT 6.1; ru-RU; AppleWebKit/534.16; KHTML; like Gecko; Chrome/10.0.648.11;Safari/534.16)\n",
    "Mozilla/5.0 (Windows; U; Windows NT 6.1; ru-RU) AppleWebKit/534.16 (KHTML, like Gecko) Chrome/10.0.648.11 Safari/534.16\n",
    "Mozilla/5.0 (Windows; U; Windows NT 6.1; en-US) AppleWebKit/534.16 (KHTML, like Gecko) Chrome/10.0.648.11 Safari/534.16\n",
    "Mozilla/5.0 (X11; U; Linux x86_64; en-US) AppleWebKit/534.16 (KHTML, like Gecko) Ubuntu/10.10 Chromium/10.0.648.0 Chrome/10.0.648.0 Safari/534.16\n",
    "Mozilla/5.0 (X11; U; Linux i686; en-US) AppleWebKit/534.16 (KHTML, like Gecko) Ubuntu/10.10 Chromium/10.0.648.0 Chrome/10.0.648.0 Safari/534.16\n",
    "Mozilla/5.0 (Macintosh; U; Intel Mac OS X 10_6_4; en-US) AppleWebKit/534.16 (KHTML, like Gecko) Chrome/10.0.648.0 Safari/534.16\n",
    "Mozilla/5.0 (X11; U; Linux x86_64; en-US) AppleWebKit/534.16 (KHTML, like Gecko) Ubuntu/10.10 Chromium/10.0.642.0 Chrome/10.0.642.0 Safari/534.16\n",
    "Mozilla/5.0 (Macintosh; U; Intel Mac OS X 10_6_5; en-US) AppleWebKit/534.16 (KHTML, like Gecko) Chrome/10.0.639.0 Safari/534.16\n",
    "Mozilla/5.0 (Windows; U; Windows NT 6.1; en-US) AppleWebKit/534.16 (KHTML, like Gecko) Chrome/10.0.638.0 Safari/534.16\n",
    "Mozilla/5.0 (X11; U; Linux i686 (x86_64); en-US) AppleWebKit/534.16 (KHTML, like Gecko) Chrome/10.0.634.0 Safari/534.16\n",
    "Mozilla/5.0 (Windows; U; Windows NT 5.1; en-US) AppleWebKit/534.16 (KHTML, like Gecko) Chrome/10.0.634.0 Safari/534.16\n",
    "Mozilla/5.0 (X11; U; Linux x86_64; en-US) AppleWebKit/534.16 SUSE/10.0.626.0 (KHTML, like Gecko) Chrome/10.0.626.0 Safari/534.16\n",
    "Mozilla/5.0 (X11; U; Linux x86_64; en-US) AppleWebKit/534.15 (KHTML, like Gecko) Chrome/10.0.613.0 Safari/534.15\n",
    "Mozilla/5.0 (X11; U; Linux i686; en-US) AppleWebKit/534.15 (KHTML, like Gecko) Ubuntu/10.10 Chromium/10.0.613.0 Chrome/10.0.613.0 Safari/534.15\n",
    "Mozilla/5.0 (X11; U; Linux i686; en-US) AppleWebKit/534.15 (KHTML, like Gecko) Ubuntu/10.04 Chromium/10.0.612.3 Chrome/10.0.612.3 Safari/534.15\n",
    "Mozilla/5.0 (X11; U; Linux i686; en-US) AppleWebKit/534.15 (KHTML, like Gecko) Chrome/10.0.612.1 Safari/534.15\n",
    "Mozilla/5.0 (X11; U; Linux i686; en-US) AppleWebKit/534.15 (KHTML, like Gecko) Ubuntu/10.10 Chromium/10.0.611.0 Chrome/10.0.611.0 Safari/534.15\n",
    "Mozilla/5.0 (Windows; U; Windows NT 5.1; en-US) AppleWebKit/534.14 (KHTML, like Gecko) Chrome/10.0.602.0 Safari/534.14\n",
    "Mozilla/5.0 (Windows; U; Windows NT 6.1; en-US) AppleWebKit/534.14 (KHTML, like Gecko) Chrome/10.0.601.0 Safari/534.14\n",
    "Mozilla/5.0 (Windows; U; Windows NT 5.1; en-US) AppleWebKit/534.14 (KHTML, like Gecko) Chrome/10.0.601.0 Safari/534.14\n",
    "Mozilla/5.0 (X11; U; Linux x86_64; en-US) AppleWebKit/540.0 (KHTML,like Gecko) Chrome/9.1.0.0 Safari/540.0\n",
    "Mozilla/5.0 (X11; U; Linux x86_64; en-US) AppleWebKit/540.0 (KHTML, like Gecko) Ubuntu/10.10 Chrome/9.1.0.0 Safari/540.0\n",
    "Mozilla/5.0 (Windows; U; Windows NT 6.0; en-US) AppleWebKit/534.14 (KHTML, like Gecko) Chrome/9.0.601.0 Safari/534.14\n",
    "Mozilla/5.0 (X11; U; Linux x86_64; en-US) AppleWebKit/534.14 (KHTML, like Gecko) Ubuntu/10.10 Chromium/9.0.600.0 Chrome/9.0.600.0 Safari/534.14\n",
    "Mozilla/5.0 (Windows; U; Windows NT 5.1; en-US) AppleWebKit/534.14 (KHTML, like Gecko) Chrome/9.0.600.0 Safari/534.14\n",
    "Mozilla/5.0 (Windows; U; Windows NT 5.1; en-US) AppleWebKit/534.13 (KHTML, like Gecko) Chrome/9.0.599.0 Safari/534.13\n",
    "Mozilla/5.0 (Windows; U; Windows NT 5.1; en-CA) AppleWebKit/534.13 (KHTML like Gecko) Chrome/9.0.597.98 Safari/534.13\n",
    "Mozilla/5.0 (X11; U; Linux i686; en-US) AppleWebKit/534.13 (KHTML, like Gecko) Chrome/9.0.597.84 Safari/534.13\n",
    "Mozilla/5.0 (X11; U; Linux i686; en-US) AppleWebKit/534.13 (KHTML, like Gecko) Chrome/9.0.597.44 Safari/534.13\n",
    "Mozilla/5.0 (Windows; U; Windows NT 6.1; en-US) AppleWebKit/534.13 (KHTML, like Gecko) Chrome/9.0.597.19 Safari/534.13\n",
    "Mozilla/5.0 (Windows; U; Windows NT 5.1; en-US) AppleWebKit/534.13 (KHTML, like Gecko) Chrome/9.0.597.15 Safari/534.13\n",
    "Mozilla/5.0 (Macintosh; U; Intel Mac OS X 10_6_5; en-US) AppleWebKit/534.13 (KHTML, like Gecko) Chrome/9.0.597.15 Safari/534.13\n",
    "Mozilla/5.0 (X11; U; Linux x86_64; en-US) AppleWebKit/534.13 (KHTML, like Gecko) Chrome/9.0.597.107 Safari/534.13 v1416758524.9051\n",
    "Mozilla/5.0 (X11; U; Linux x86_64; en-US) AppleWebKit/534.13 (KHTML, like Gecko) Chrome/9.0.597.107 Safari/534.13 v1416748405.3871\n",
    "Mozilla/5.0 (X11; U; Linux x86_64; en-US) AppleWebKit/534.13 (KHTML, like Gecko) Chrome/9.0.597.107 Safari/534.13 v1416670950.695\n",
    "Mozilla/5.0 (X11; U; Linux x86_64; en-US) AppleWebKit/534.13 (KHTML, like Gecko) Chrome/9.0.597.107 Safari/534.13 v1416664997.4379\n",
    "Mozilla/5.0 (X11; U; Linux x86_64; en-US) AppleWebKit/534.13 (KHTML, like Gecko) Chrome/9.0.597.107 Safari/534.13 v1333515017.9196\n",
    "Mozilla/5.0 (X11; U; Linux x86_64; en-US) AppleWebKit/534.13 (KHTML, like Gecko) Chrome/9.0.597.0 Safari/534.13\n",
    "Mozilla/5.0 (Windows; U; Windows NT 6.1; en-US)  AppleWebKit/534.13 (KHTML, like Gecko) Chrome/9.0.597.0 Safari/534.13\n",
    "Mozilla/5.0 (Windows; U; Windows NT 6.0; en-US) AppleWebKit/534.13 (KHTML, like Gecko) Chrome/9.0.597.0 Safari/534.13\n",
    "Mozilla/5.0 (Windows; U; Windows NT 5.1; en-US) AppleWebKit/534.13 (KHTML, like Gecko) Chrome/9.0.597.0 Safari/534.13\n",
    "Mozilla/5.0 (Macintosh; U; Intel Mac OS X 10_6_5; en-US) AppleWebKit/534.13 (KHTML, like Gecko) Chrome/9.0.597.0 Safari/534.13\n",
    "Mozilla/5.0 (Macintosh; U; Intel Mac OS X 10_6_4; en-US) AppleWebKit/534.13 (KHTML, like Gecko) Chrome/9.0.597.0 Safari/534.13\n",
    "Mozilla/5.0 (Windows; U; Windows NT 6.1; en-US) AppleWebKit/534.13 (KHTML, like Gecko) Chrome/9.0.596.0 Safari/534.13\n",
    "Mozilla/5.0 (X11; U; Linux x86_64; en-US) AppleWebKit/534.13 (KHTML, like Gecko) Ubuntu/10.04 Chromium/9.0.595.0 Chrome/9.0.595.0 Safari/534.13\n",
    "Mozilla/5.0 (X11; U; Linux i686; en-US) AppleWebKit/534.13 (KHTML, like Gecko) Ubuntu/9.10 Chromium/9.0.592.0 Chrome/9.0.592.0 Safari/534.13\n",
    "Mozilla/5.0 (X11; U; Windows NT 6; en-US) AppleWebKit/534.12 (KHTML, like Gecko) Chrome/9.0.587.0 Safari/534.12\n",
    "Mozilla/5.0 (Windows  U  Windows NT 5.1  en-US) AppleWebKit/534.12 (KHTML, like Gecko) Chrome/9.0.583.0 Safari/534.12'''.split('\\n')"
   ]
  },
  {
   "cell_type": "code",
   "execution_count": null,
   "id": "e3406a9b",
   "metadata": {},
   "outputs": [],
   "source": [
    "directory = './Google News'\n",
    "appended_news= []\n",
    "for filename in os.listdir(directory):\n",
    "    f = directory+'/'+filename\n",
    "    print(f)\n",
    "    df = pd.read_csv(f)\n",
    "    USER_AGENT = random.choice(USER_AGENTS)\n",
    "    config = Config()\n",
    "    config.browser_user_agent = USER_AGENT\n",
    "    config.request_timeout = 15\n",
    "    print(filename[:3])\n",
    "    for url in df['link']:\n",
    "        #print(url)\n",
    "        base_url = re.search(\"^.+?[^\\/:](?=[?\\/]|$)\",url)[0]\n",
    "        print(base_url)\n",
    "        article_urls = set()\n",
    "        euronews = newspaper.build(base_url, config=config, memoize_articles=False, language='en')\n",
    "        article = Article(url,config = config , memoize_articles=False, language='en')\n",
    "        try:\n",
    "            article.download()\n",
    "            article.parse()\n",
    "            article.nlp()\n",
    "            df.loc[df['link'] == url,\"summary\"] = article.summary\n",
    "        except:\n",
    "            df.loc[df['link'] == url,\"summary\"] = ''\n",
    "    df['type'] = filename[:3] \n",
    "    \n",
    "    appended_news.append(df)\n",
    "\n",
    "news_sum = pd.concat(appended_news)\n",
    "        "
   ]
  },
  {
   "cell_type": "code",
   "execution_count": null,
   "id": "42dcd292",
   "metadata": {},
   "outputs": [],
   "source": [
    "# Saving it into csv\n",
    "news_sum.to_csv('Google_news_summary.csv',index = False)"
   ]
  },
  {
   "cell_type": "markdown",
   "id": "8cf52068",
   "metadata": {},
   "source": [
    "# Sentiment Analysis for Google News"
   ]
  },
  {
   "cell_type": "code",
   "execution_count": null,
   "id": "48907db7",
   "metadata": {},
   "outputs": [],
   "source": [
    "df = pd.read_csv('./Google_news_summary.csv')\n",
    "\n",
    "# Drop Null summary.\n",
    "df = df.loc[df['summary'].notnull()]\n",
    "\n",
    "#Sentiment NLTK\n",
    "df['Sentiment_NLTK'] = df.apply(sentimental_analysis, axis = 1)\n",
    "\n",
    "#Sentiment Textblob\n",
    "df['Subjectivity']=df['summary'].apply(getSubjectivity)\n",
    "df['Polarity']=df['summary'].apply(getPolarity)    \n",
    "df['Sentiment_TB']=df['Polarity'].apply(getSentiment)\n",
    "\n",
    "# Saving it to csv\n",
    "df.to_csv('Google_news_sentiment.csv', encoding='utf-8-sig' ,index= False)"
   ]
  },
  {
   "cell_type": "markdown",
   "id": "9f8b3db6",
   "metadata": {},
   "source": [
    "# Sorting Barchart News"
   ]
  },
  {
   "cell_type": "markdown",
   "id": "b5e64f3e",
   "metadata": {},
   "source": [
    "**IF**"
   ]
  },
  {
   "cell_type": "code",
   "execution_count": 146,
   "id": "b967520f",
   "metadata": {},
   "outputs": [
    {
     "data": {
      "text/html": [
       "<div>\n",
       "<style scoped>\n",
       "    .dataframe tbody tr th:only-of-type {\n",
       "        vertical-align: middle;\n",
       "    }\n",
       "\n",
       "    .dataframe tbody tr th {\n",
       "        vertical-align: top;\n",
       "    }\n",
       "\n",
       "    .dataframe thead th {\n",
       "        text-align: right;\n",
       "    }\n",
       "</style>\n",
       "<table border=\"1\" class=\"dataframe\">\n",
       "  <thead>\n",
       "    <tr style=\"text-align: right;\">\n",
       "      <th></th>\n",
       "      <th>Unnamed: 0</th>\n",
       "      <th>newsid</th>\n",
       "      <th>timestamp</th>\n",
       "      <th>source</th>\n",
       "      <th>categories</th>\n",
       "      <th>subcategories</th>\n",
       "      <th>headline</th>\n",
       "      <th>isexternal</th>\n",
       "      <th>organization</th>\n",
       "      <th>canonicalurl</th>\n",
       "      <th>relatedsymbols</th>\n",
       "      <th>preview</th>\n",
       "      <th>headlineurl</th>\n",
       "      <th>pdfurl</th>\n",
       "    </tr>\n",
       "  </thead>\n",
       "  <tbody>\n",
       "    <tr>\n",
       "      <th>0</th>\n",
       "      <td>0</td>\n",
       "      <td>468755</td>\n",
       "      <td>2020-10-20T14:04:30-05:00</td>\n",
       "      <td>IF</td>\n",
       "      <td>['futures']</td>\n",
       "      <td>['energies', 'grains', 'softs']</td>\n",
       "      <td>Where Weather Matters Most (what these 2 marke...</td>\n",
       "      <td>False</td>\n",
       "      <td>BestWeatherInc.com</td>\n",
       "      <td>https://www.barchart.com/story/news/468755/whe...</td>\n",
       "      <td>[]</td>\n",
       "      <td>October 20, 2020    Wheat and Sugar Prices are...</td>\n",
       "      <td>NaN</td>\n",
       "      <td>NaN</td>\n",
       "    </tr>\n",
       "    <tr>\n",
       "      <th>1</th>\n",
       "      <td>1</td>\n",
       "      <td>468673</td>\n",
       "      <td>2020-10-20T13:55:53-05:00</td>\n",
       "      <td>IF</td>\n",
       "      <td>['futures']</td>\n",
       "      <td>['energies']</td>\n",
       "      <td>Looking To Buy Heating Oil</td>\n",
       "      <td>False</td>\n",
       "      <td>Seery Futures</td>\n",
       "      <td>https://www.barchart.com/story/news/468673/loo...</td>\n",
       "      <td>[]</td>\n",
       "      <td>Risk in your favor soon...</td>\n",
       "      <td>NaN</td>\n",
       "      <td>NaN</td>\n",
       "    </tr>\n",
       "    <tr>\n",
       "      <th>3</th>\n",
       "      <td>3</td>\n",
       "      <td>466642</td>\n",
       "      <td>2020-10-21T14:05:03-05:00</td>\n",
       "      <td>IF</td>\n",
       "      <td>['futures']</td>\n",
       "      <td>['energies']</td>\n",
       "      <td>Do What Is Necessary.    The Energy Report  10...</td>\n",
       "      <td>False</td>\n",
       "      <td>The PRICE Futures Group</td>\n",
       "      <td>https://www.barchart.com/story/news/466642/do-...</td>\n",
       "      <td>[]</td>\n",
       "      <td>PRICE Futures Group · Do What Is Necessary. Th...</td>\n",
       "      <td>https://blog.pricegroup.com/2020/10/20/do-what...</td>\n",
       "      <td>NaN</td>\n",
       "    </tr>\n",
       "    <tr>\n",
       "      <th>4</th>\n",
       "      <td>4</td>\n",
       "      <td>463294</td>\n",
       "      <td>2020-10-20T05:44:22-05:00</td>\n",
       "      <td>IF</td>\n",
       "      <td>['futures']</td>\n",
       "      <td>['energies', 'financials', 'indices']</td>\n",
       "      <td>No Stimulus in Sight</td>\n",
       "      <td>False</td>\n",
       "      <td>Market Tea Leaves</td>\n",
       "      <td>https://www.barchart.com/story/news/463294/no-...</td>\n",
       "      <td>[]</td>\n",
       "      <td>Yesterday the markets fell with no economic st...</td>\n",
       "      <td>NaN</td>\n",
       "      <td>NaN</td>\n",
       "    </tr>\n",
       "    <tr>\n",
       "      <th>5</th>\n",
       "      <td>5</td>\n",
       "      <td>457324</td>\n",
       "      <td>2020-10-19T09:45:32-05:00</td>\n",
       "      <td>IF</td>\n",
       "      <td>['futures']</td>\n",
       "      <td>['energies']</td>\n",
       "      <td>Natural gas Weekly Forecast</td>\n",
       "      <td>False</td>\n",
       "      <td>Kolhanov.com</td>\n",
       "      <td>https://www.barchart.com/story/news/457324/nat...</td>\n",
       "      <td>[]</td>\n",
       "      <td>An uptrend will start as soon, as the market r...</td>\n",
       "      <td>NaN</td>\n",
       "      <td>NaN</td>\n",
       "    </tr>\n",
       "  </tbody>\n",
       "</table>\n",
       "</div>"
      ],
      "text/plain": [
       "   Unnamed: 0  newsid                  timestamp source   categories  \\\n",
       "0           0  468755  2020-10-20T14:04:30-05:00     IF  ['futures']   \n",
       "1           1  468673  2020-10-20T13:55:53-05:00     IF  ['futures']   \n",
       "3           3  466642  2020-10-21T14:05:03-05:00     IF  ['futures']   \n",
       "4           4  463294  2020-10-20T05:44:22-05:00     IF  ['futures']   \n",
       "5           5  457324  2020-10-19T09:45:32-05:00     IF  ['futures']   \n",
       "\n",
       "                           subcategories  \\\n",
       "0        ['energies', 'grains', 'softs']   \n",
       "1                           ['energies']   \n",
       "3                           ['energies']   \n",
       "4  ['energies', 'financials', 'indices']   \n",
       "5                           ['energies']   \n",
       "\n",
       "                                            headline  isexternal  \\\n",
       "0  Where Weather Matters Most (what these 2 marke...       False   \n",
       "1                         Looking To Buy Heating Oil       False   \n",
       "3  Do What Is Necessary.    The Energy Report  10...       False   \n",
       "4                               No Stimulus in Sight       False   \n",
       "5                        Natural gas Weekly Forecast       False   \n",
       "\n",
       "              organization                                       canonicalurl  \\\n",
       "0       BestWeatherInc.com  https://www.barchart.com/story/news/468755/whe...   \n",
       "1            Seery Futures  https://www.barchart.com/story/news/468673/loo...   \n",
       "3  The PRICE Futures Group  https://www.barchart.com/story/news/466642/do-...   \n",
       "4        Market Tea Leaves  https://www.barchart.com/story/news/463294/no-...   \n",
       "5             Kolhanov.com  https://www.barchart.com/story/news/457324/nat...   \n",
       "\n",
       "  relatedsymbols                                            preview  \\\n",
       "0             []  October 20, 2020    Wheat and Sugar Prices are...   \n",
       "1             []                         Risk in your favor soon...   \n",
       "3             []  PRICE Futures Group · Do What Is Necessary. Th...   \n",
       "4             []  Yesterday the markets fell with no economic st...   \n",
       "5             []  An uptrend will start as soon, as the market r...   \n",
       "\n",
       "                                         headlineurl  pdfurl  \n",
       "0                                                NaN     NaN  \n",
       "1                                                NaN     NaN  \n",
       "3  https://blog.pricegroup.com/2020/10/20/do-what...     NaN  \n",
       "4                                                NaN     NaN  \n",
       "5                                                NaN     NaN  "
      ]
     },
     "execution_count": 146,
     "metadata": {},
     "output_type": "execute_result"
    }
   ],
   "source": [
    "df = pd.read_csv('./IF_combined.csv')\n",
    "\n",
    "# Drop null data\n",
    "df = df.dropna(subset=['preview'])\n",
    "df = df.loc[~df['preview'].str.contains(r'\\b(Actionable|Action|Actiona)\\b')]\n",
    "df.head()"
   ]
  },
  {
   "cell_type": "code",
   "execution_count": 147,
   "id": "69a67d2d",
   "metadata": {},
   "outputs": [],
   "source": [
    "# Calculating the occurance of the type of grains\n",
    "\n",
    "df['Gas'] = (df['preview']+df['headline']+df['subcategories']).str.lower().str.count('gas')\n",
    "df['Oil'] = (df['preview']+df['headline']+df['subcategories']).str.lower().str.count('oil|crude|clz|clf|hoz|hof')\n",
    "df['Grains'] = (df['preview']+df['headline']+df['subcategories']).str.lower().str.count('grain|crop|bean|coffee|weather')\n",
    "df['Ethanol'] = (df['preview']+df['headline']+df['subcategories']).str.lower().str.count('ethanol')\n",
    "df['Gold'] = (df['preview']+df['headline']+df['subcategories']).str.lower().str.count('gold')\n",
    "df['Silver'] = (df['preview']+df['headline']+df['subcategories']).str.lower().str.count('silver')\n",
    "df['Platinum'] = (df['preview']+df['headline']+df['subcategories']).str.lower().str.count('platinum')\n",
    "df['Corn'] = (df['preview']+df['headline']+df['subcategories']).str.lower().str.count('corn')\n",
    "df['Wheat'] = (df['preview']+df['headline']+df['subcategories']).str.lower().str.count('wheat')\n",
    "df['Soy'] = (df['preview']+df['headline']+df['subcategories']).str.lower().str.count('soy')\n",
    "df['S&P'] = (df['preview']+df['headline']+df['subcategories']).str.lower().str.count('s&p|dow')\n",
    "df['Energy'] = (df['preview']+df['headline']+df['subcategories']).str.lower().str.count('energ')\n",
    "df['Market'] = (df['preview']+df['headline']+df['subcategories']).str.lower().str.count('market')\n",
    "df['Commodity'] = (df['preview']+df['headline']+df['subcategories']).str.lower().str.count('commodi')\n",
    "df['Cattle'] = (df['preview']+df['headline']+df['subcategories']).str.lower().str.count('cattle|beef')"
   ]
  },
  {
   "cell_type": "code",
   "execution_count": 148,
   "id": "4b482a0a",
   "metadata": {},
   "outputs": [
    {
     "data": {
      "text/html": [
       "<div>\n",
       "<style scoped>\n",
       "    .dataframe tbody tr th:only-of-type {\n",
       "        vertical-align: middle;\n",
       "    }\n",
       "\n",
       "    .dataframe tbody tr th {\n",
       "        vertical-align: top;\n",
       "    }\n",
       "\n",
       "    .dataframe thead th {\n",
       "        text-align: right;\n",
       "    }\n",
       "</style>\n",
       "<table border=\"1\" class=\"dataframe\">\n",
       "  <thead>\n",
       "    <tr style=\"text-align: right;\">\n",
       "      <th></th>\n",
       "      <th>Unnamed: 0</th>\n",
       "      <th>newsid</th>\n",
       "      <th>timestamp</th>\n",
       "      <th>source</th>\n",
       "      <th>categories</th>\n",
       "      <th>subcategories</th>\n",
       "      <th>headline</th>\n",
       "      <th>isexternal</th>\n",
       "      <th>organization</th>\n",
       "      <th>canonicalurl</th>\n",
       "      <th>...</th>\n",
       "      <th>Platinum</th>\n",
       "      <th>Corn</th>\n",
       "      <th>Wheat</th>\n",
       "      <th>Soy</th>\n",
       "      <th>S&amp;P</th>\n",
       "      <th>Energy</th>\n",
       "      <th>Market</th>\n",
       "      <th>Commodity</th>\n",
       "      <th>Cattle</th>\n",
       "      <th>Type</th>\n",
       "    </tr>\n",
       "  </thead>\n",
       "  <tbody>\n",
       "    <tr>\n",
       "      <th>0</th>\n",
       "      <td>0</td>\n",
       "      <td>468755</td>\n",
       "      <td>2020-10-20T14:04:30-05:00</td>\n",
       "      <td>IF</td>\n",
       "      <td>['futures']</td>\n",
       "      <td>['energies', 'grains', 'softs']</td>\n",
       "      <td>Where Weather Matters Most (what these 2 marke...</td>\n",
       "      <td>False</td>\n",
       "      <td>BestWeatherInc.com</td>\n",
       "      <td>https://www.barchart.com/story/news/468755/whe...</td>\n",
       "      <td>...</td>\n",
       "      <td>0</td>\n",
       "      <td>0</td>\n",
       "      <td>1</td>\n",
       "      <td>0</td>\n",
       "      <td>0</td>\n",
       "      <td>1</td>\n",
       "      <td>1</td>\n",
       "      <td>1</td>\n",
       "      <td>0</td>\n",
       "      <td>Grains</td>\n",
       "    </tr>\n",
       "    <tr>\n",
       "      <th>1</th>\n",
       "      <td>1</td>\n",
       "      <td>468673</td>\n",
       "      <td>2020-10-20T13:55:53-05:00</td>\n",
       "      <td>IF</td>\n",
       "      <td>['futures']</td>\n",
       "      <td>['energies']</td>\n",
       "      <td>Looking To Buy Heating Oil</td>\n",
       "      <td>False</td>\n",
       "      <td>Seery Futures</td>\n",
       "      <td>https://www.barchart.com/story/news/468673/loo...</td>\n",
       "      <td>...</td>\n",
       "      <td>0</td>\n",
       "      <td>0</td>\n",
       "      <td>0</td>\n",
       "      <td>0</td>\n",
       "      <td>0</td>\n",
       "      <td>1</td>\n",
       "      <td>0</td>\n",
       "      <td>0</td>\n",
       "      <td>0</td>\n",
       "      <td>Oil</td>\n",
       "    </tr>\n",
       "    <tr>\n",
       "      <th>3</th>\n",
       "      <td>3</td>\n",
       "      <td>466642</td>\n",
       "      <td>2020-10-21T14:05:03-05:00</td>\n",
       "      <td>IF</td>\n",
       "      <td>['futures']</td>\n",
       "      <td>['energies']</td>\n",
       "      <td>Do What Is Necessary.    The Energy Report  10...</td>\n",
       "      <td>False</td>\n",
       "      <td>The PRICE Futures Group</td>\n",
       "      <td>https://www.barchart.com/story/news/466642/do-...</td>\n",
       "      <td>...</td>\n",
       "      <td>0</td>\n",
       "      <td>0</td>\n",
       "      <td>0</td>\n",
       "      <td>0</td>\n",
       "      <td>0</td>\n",
       "      <td>3</td>\n",
       "      <td>0</td>\n",
       "      <td>0</td>\n",
       "      <td>0</td>\n",
       "      <td>Energy</td>\n",
       "    </tr>\n",
       "    <tr>\n",
       "      <th>4</th>\n",
       "      <td>4</td>\n",
       "      <td>463294</td>\n",
       "      <td>2020-10-20T05:44:22-05:00</td>\n",
       "      <td>IF</td>\n",
       "      <td>['futures']</td>\n",
       "      <td>['energies', 'financials', 'indices']</td>\n",
       "      <td>No Stimulus in Sight</td>\n",
       "      <td>False</td>\n",
       "      <td>Market Tea Leaves</td>\n",
       "      <td>https://www.barchart.com/story/news/463294/no-...</td>\n",
       "      <td>...</td>\n",
       "      <td>0</td>\n",
       "      <td>0</td>\n",
       "      <td>0</td>\n",
       "      <td>0</td>\n",
       "      <td>0</td>\n",
       "      <td>1</td>\n",
       "      <td>1</td>\n",
       "      <td>0</td>\n",
       "      <td>0</td>\n",
       "      <td>Energy</td>\n",
       "    </tr>\n",
       "    <tr>\n",
       "      <th>5</th>\n",
       "      <td>5</td>\n",
       "      <td>457324</td>\n",
       "      <td>2020-10-19T09:45:32-05:00</td>\n",
       "      <td>IF</td>\n",
       "      <td>['futures']</td>\n",
       "      <td>['energies']</td>\n",
       "      <td>Natural gas Weekly Forecast</td>\n",
       "      <td>False</td>\n",
       "      <td>Kolhanov.com</td>\n",
       "      <td>https://www.barchart.com/story/news/457324/nat...</td>\n",
       "      <td>...</td>\n",
       "      <td>0</td>\n",
       "      <td>0</td>\n",
       "      <td>0</td>\n",
       "      <td>0</td>\n",
       "      <td>0</td>\n",
       "      <td>1</td>\n",
       "      <td>1</td>\n",
       "      <td>0</td>\n",
       "      <td>0</td>\n",
       "      <td>Gas</td>\n",
       "    </tr>\n",
       "  </tbody>\n",
       "</table>\n",
       "<p>5 rows × 30 columns</p>\n",
       "</div>"
      ],
      "text/plain": [
       "   Unnamed: 0  newsid                  timestamp source   categories  \\\n",
       "0           0  468755  2020-10-20T14:04:30-05:00     IF  ['futures']   \n",
       "1           1  468673  2020-10-20T13:55:53-05:00     IF  ['futures']   \n",
       "3           3  466642  2020-10-21T14:05:03-05:00     IF  ['futures']   \n",
       "4           4  463294  2020-10-20T05:44:22-05:00     IF  ['futures']   \n",
       "5           5  457324  2020-10-19T09:45:32-05:00     IF  ['futures']   \n",
       "\n",
       "                           subcategories  \\\n",
       "0        ['energies', 'grains', 'softs']   \n",
       "1                           ['energies']   \n",
       "3                           ['energies']   \n",
       "4  ['energies', 'financials', 'indices']   \n",
       "5                           ['energies']   \n",
       "\n",
       "                                            headline  isexternal  \\\n",
       "0  Where Weather Matters Most (what these 2 marke...       False   \n",
       "1                         Looking To Buy Heating Oil       False   \n",
       "3  Do What Is Necessary.    The Energy Report  10...       False   \n",
       "4                               No Stimulus in Sight       False   \n",
       "5                        Natural gas Weekly Forecast       False   \n",
       "\n",
       "              organization                                       canonicalurl  \\\n",
       "0       BestWeatherInc.com  https://www.barchart.com/story/news/468755/whe...   \n",
       "1            Seery Futures  https://www.barchart.com/story/news/468673/loo...   \n",
       "3  The PRICE Futures Group  https://www.barchart.com/story/news/466642/do-...   \n",
       "4        Market Tea Leaves  https://www.barchart.com/story/news/463294/no-...   \n",
       "5             Kolhanov.com  https://www.barchart.com/story/news/457324/nat...   \n",
       "\n",
       "   ... Platinum Corn Wheat  Soy  S&P  Energy  Market  Commodity  Cattle  \\\n",
       "0  ...        0    0     1    0    0       1       1          1       0   \n",
       "1  ...        0    0     0    0    0       1       0          0       0   \n",
       "3  ...        0    0     0    0    0       3       0          0       0   \n",
       "4  ...        0    0     0    0    0       1       1          0       0   \n",
       "5  ...        0    0     0    0    0       1       1          0       0   \n",
       "\n",
       "     Type  \n",
       "0  Grains  \n",
       "1     Oil  \n",
       "3  Energy  \n",
       "4  Energy  \n",
       "5     Gas  \n",
       "\n",
       "[5 rows x 30 columns]"
      ]
     },
     "execution_count": 148,
     "metadata": {},
     "output_type": "execute_result"
    }
   ],
   "source": [
    "s = df[['Gas', 'Oil', 'Grains', 'Ethanol', 'Gold', 'Silver', 'Platinum', 'Corn', 'Wheat','Soy','S&P', 'Energy','Market','Cattle','Commodity']].idxmax(axis=1)\n",
    "\n",
    "df['Type'] = s\n",
    "df.head()\n"
   ]
  },
  {
   "cell_type": "code",
   "execution_count": 149,
   "id": "6719aae6",
   "metadata": {},
   "outputs": [],
   "source": [
    "# Saving as csv file\n",
    "df.to_csv('IFsorted.csv',index=False)"
   ]
  },
  {
   "cell_type": "markdown",
   "id": "6c8b1944",
   "metadata": {},
   "source": [
    "**Brug**"
   ]
  },
  {
   "cell_type": "code",
   "execution_count": 150,
   "id": "4e9bd1fa",
   "metadata": {},
   "outputs": [],
   "source": [
    "df = pd.read_csv('./BRUG_combined.csv')\n",
    "\n",
    "# Drop null data\n",
    "df = df.dropna(subset=['preview'])"
   ]
  },
  {
   "cell_type": "code",
   "execution_count": 151,
   "id": "81b7182e",
   "metadata": {},
   "outputs": [],
   "source": [
    "# Calculating the occurance of the type of grains\n",
    "\n",
    "df['Wheat'] = (df['preview']+df['headline']).str.lower().str.count('wheat')\n",
    "df['Soy'] = (df['preview']+df['headline']).str.lower().str.count('soy|bean')\n",
    "df['Corn'] = (df['preview']+df['headline']).str.lower().str.count('corn')"
   ]
  },
  {
   "cell_type": "code",
   "execution_count": 152,
   "id": "85fdad26",
   "metadata": {},
   "outputs": [],
   "source": [
    "# data of intereset\n",
    "s = df[['Wheat', 'Soy', 'Corn']].idxmax(axis=1)\n",
    "\n",
    "df['Type'] = s"
   ]
  },
  {
   "cell_type": "code",
   "execution_count": 153,
   "id": "df2eff40",
   "metadata": {},
   "outputs": [],
   "source": [
    "df.to_csv('BRUGsorted.csv',index=False)"
   ]
  },
  {
   "cell_type": "markdown",
   "id": "20e98e4f",
   "metadata": {},
   "source": [
    "# Sentiment Analysis for Barchart (IF & BRUG)"
   ]
  },
  {
   "cell_type": "code",
   "execution_count": 154,
   "id": "865bc590",
   "metadata": {},
   "outputs": [],
   "source": [
    "if_news = pd.read_csv('IFsorted.csv')\n",
    "brug_news = pd.read_csv('BRUGsorted.csv')\n",
    "\n",
    "text_list = ['headline','preview']"
   ]
  },
  {
   "cell_type": "markdown",
   "id": "ab7f2661",
   "metadata": {},
   "source": [
    "**NLTK Slight Modification**"
   ]
  },
  {
   "cell_type": "code",
   "execution_count": 155,
   "id": "af437be8",
   "metadata": {},
   "outputs": [],
   "source": [
    "#Sentiment Analysis\n",
    "def percentage(part,whole):\n",
    "    return 100 * float(part)/float(whole)\n",
    "\n",
    "#Iterating over the text in the dataframe\n",
    "\n",
    "def apply_analysis(text):\n",
    "    return SentimentIntensityAnalyzer().polarity_scores(text)\n",
    "\n",
    "text_list = ['headline','preview']\n",
    "def sentimental_analysis(df, text):\n",
    "    if df['{0} neg'.format(text)] > df['{0} pos'.format(text)]:\n",
    "        return 'Negative'\n",
    "    elif df['{0} pos'.format(text)] > df['{0} neg'.format(text)]:\n",
    "        return 'Positive'\n",
    "    elif df['{0} pos'.format(text)] == df['{0} neg'.format(text)]:\n",
    "        return 'Neutral'"
   ]
  },
  {
   "cell_type": "markdown",
   "id": "1c093e22",
   "metadata": {},
   "source": [
    "**IF News**"
   ]
  },
  {
   "cell_type": "code",
   "execution_count": 158,
   "id": "12fc8206",
   "metadata": {},
   "outputs": [],
   "source": [
    "#NLTK\n",
    "for x in text_list:\n",
    "    if_news[['{0} neg'.format(x),'{0} neu'.format(x),'{0} pos'.format(x),'{0} compound'.format(x)]] = if_news[x].apply(apply_analysis).apply(pd.Series)\n",
    "    if_news['{0} Sentiment_NLTK'.format(x)] = if_news.apply(sentimental_analysis,text=x, axis = 1)\n",
    "\n",
    "#TextBlob    \n",
    "for x in text_list:    \n",
    "    if_news['{0} Subjectivity'.format(x)]=if_news[x].apply(getSubjectivity)\n",
    "    if_news['{0} Polarity'.format(x)]=if_news[x].apply(getPolarity)    \n",
    "    if_news['{0} Sentiment_TB'.format(x)]=if_news['{0} Polarity'.format(x)].apply(getSentiment)\n",
    "    \n",
    "if_news.to_csv('./IF_sentiment.csv', index = False)"
   ]
  },
  {
   "cell_type": "markdown",
   "id": "d026cc55",
   "metadata": {},
   "source": [
    "**Brug News**"
   ]
  },
  {
   "cell_type": "code",
   "execution_count": null,
   "id": "7e25d04a",
   "metadata": {},
   "outputs": [],
   "source": [
    "#NLTK\n",
    "for x in text_list:\n",
    "    brug_news[['{0} neg'.format(x),'{0} neu'.format(x),'{0} pos'.format(x),'{0} compound'.format(x)]] = brug_news[x].apply(apply_analysis).apply(pd.Series)\n",
    "    brug_news['{0} Sentiment_NLTK'.format(x)] = brug_news.apply(sentimental_analysis,text=x, axis = 1)\n",
    "\n",
    "#TextBlob    \n",
    "for x in text_list:    \n",
    "    brug_news['{0} Subjectivity'.format(x)]=brug_news[x].apply(getSubjectivity)\n",
    "    brug_news['{0} Polarity'.format(x)]=brug_news[x].apply(getPolarity)    \n",
    "    brug_news['{0} Sentiment_TB'.format(x)]=brug_news['{0} Polarity'.format(x)].apply(getSentiment)\n",
    "    \n",
    "brug_news.to_csv('./brug_sentiment.csv' , index = False)"
   ]
  },
  {
   "cell_type": "markdown",
   "id": "f0ac6f7f",
   "metadata": {},
   "source": [
    "# Averaging Sentiments"
   ]
  },
  {
   "cell_type": "code",
   "execution_count": 122,
   "id": "702634cf",
   "metadata": {},
   "outputs": [],
   "source": [
    "twitter = pd.read_csv('./Twitter_sentiment.csv')\n",
    "gn = pd.read_csv('./Google_news_sentiment.csv')\n",
    "brug = pd.read_csv('./brug_sentiment.csv')\n",
    "if_ = pd.read_csv('./IF_sentiment.csv')"
   ]
  },
  {
   "cell_type": "code",
   "execution_count": 123,
   "id": "eb9da175",
   "metadata": {},
   "outputs": [],
   "source": [
    "if_['date'] = pd.to_datetime(if_['timestamp'], utc=True).dt.date\n",
    "twitter['date'] = pd.to_datetime(twitter['Datetime'], utc=True).dt.date\n",
    "brug['date'] = pd.to_datetime(brug['timestamp'], utc=True).dt.date\n",
    "gn['date'] = pd.to_datetime(gn['date'],format = '%d/%m/%Y').dt.date\n",
    "\n",
    "twitter = twitter.loc[pd.to_datetime(twitter['date']).between('2017-12-31','2022-04-01', inclusive=False)]"
   ]
  },
  {
   "cell_type": "code",
   "execution_count": 124,
   "id": "0b9fd52e",
   "metadata": {},
   "outputs": [],
   "source": [
    "def averaging_sentiments (df,date_,type_,nltk_sentiment):\n",
    "    cleanup_nums = {nltk_sentiment:    {\"Negative\": -1, \"Neutral\": 0,\"Positive\": 1}}\n",
    "    df = df.replace(cleanup_nums)\n",
    "    df[type_] = df[type_].str.lower()\n",
    "    df = df.groupby([date_,type_]).agg({nltk_sentiment: np.average})\n",
    "    df.columns = ['Sentiment_NLTK']\n",
    "    df = df.reset_index(level=[0,1])\n",
    "    return df"
   ]
  },
  {
   "cell_type": "code",
   "execution_count": 125,
   "id": "ae8f761a",
   "metadata": {},
   "outputs": [
    {
     "data": {
      "text/html": [
       "<div>\n",
       "<style scoped>\n",
       "    .dataframe tbody tr th:only-of-type {\n",
       "        vertical-align: middle;\n",
       "    }\n",
       "\n",
       "    .dataframe tbody tr th {\n",
       "        vertical-align: top;\n",
       "    }\n",
       "\n",
       "    .dataframe thead th {\n",
       "        text-align: right;\n",
       "    }\n",
       "</style>\n",
       "<table border=\"1\" class=\"dataframe\">\n",
       "  <thead>\n",
       "    <tr style=\"text-align: right;\">\n",
       "      <th></th>\n",
       "      <th>date</th>\n",
       "      <th>Type</th>\n",
       "      <th>Sentiment_NLTK</th>\n",
       "    </tr>\n",
       "  </thead>\n",
       "  <tbody>\n",
       "    <tr>\n",
       "      <th>0</th>\n",
       "      <td>2018-01-01</td>\n",
       "      <td>coconut oil</td>\n",
       "      <td>0.500000</td>\n",
       "    </tr>\n",
       "    <tr>\n",
       "      <th>1</th>\n",
       "      <td>2018-01-01</td>\n",
       "      <td>crude oil</td>\n",
       "      <td>-1.000000</td>\n",
       "    </tr>\n",
       "    <tr>\n",
       "      <th>2</th>\n",
       "      <td>2018-01-01</td>\n",
       "      <td>palm oil</td>\n",
       "      <td>0.000000</td>\n",
       "    </tr>\n",
       "    <tr>\n",
       "      <th>3</th>\n",
       "      <td>2018-01-01</td>\n",
       "      <td>rapeseed oil</td>\n",
       "      <td>0.333333</td>\n",
       "    </tr>\n",
       "    <tr>\n",
       "      <th>4</th>\n",
       "      <td>2018-01-01</td>\n",
       "      <td>soy</td>\n",
       "      <td>0.333333</td>\n",
       "    </tr>\n",
       "    <tr>\n",
       "      <th>...</th>\n",
       "      <td>...</td>\n",
       "      <td>...</td>\n",
       "      <td>...</td>\n",
       "    </tr>\n",
       "    <tr>\n",
       "      <th>1735</th>\n",
       "      <td>2022-03-16</td>\n",
       "      <td>crude oil</td>\n",
       "      <td>-1.000000</td>\n",
       "    </tr>\n",
       "    <tr>\n",
       "      <th>1736</th>\n",
       "      <td>2022-03-16</td>\n",
       "      <td>soy</td>\n",
       "      <td>1.000000</td>\n",
       "    </tr>\n",
       "    <tr>\n",
       "      <th>1737</th>\n",
       "      <td>2022-03-16</td>\n",
       "      <td>sunflower oil</td>\n",
       "      <td>-1.000000</td>\n",
       "    </tr>\n",
       "    <tr>\n",
       "      <th>1738</th>\n",
       "      <td>2022-03-17</td>\n",
       "      <td>coconut oil</td>\n",
       "      <td>1.000000</td>\n",
       "    </tr>\n",
       "    <tr>\n",
       "      <th>1739</th>\n",
       "      <td>2022-03-18</td>\n",
       "      <td>palm oil</td>\n",
       "      <td>-1.000000</td>\n",
       "    </tr>\n",
       "  </tbody>\n",
       "</table>\n",
       "<p>1740 rows × 3 columns</p>\n",
       "</div>"
      ],
      "text/plain": [
       "            date           Type  Sentiment_NLTK\n",
       "0     2018-01-01    coconut oil        0.500000\n",
       "1     2018-01-01      crude oil       -1.000000\n",
       "2     2018-01-01       palm oil        0.000000\n",
       "3     2018-01-01   rapeseed oil        0.333333\n",
       "4     2018-01-01            soy        0.333333\n",
       "...          ...            ...             ...\n",
       "1735  2022-03-16      crude oil       -1.000000\n",
       "1736  2022-03-16            soy        1.000000\n",
       "1737  2022-03-16  sunflower oil       -1.000000\n",
       "1738  2022-03-17    coconut oil        1.000000\n",
       "1739  2022-03-18       palm oil       -1.000000\n",
       "\n",
       "[1740 rows x 3 columns]"
      ]
     },
     "execution_count": 125,
     "metadata": {},
     "output_type": "execute_result"
    }
   ],
   "source": [
    "\n",
    "twitter_ = averaging_sentiments(twitter,'date','Type','Sentiment_NLTK')\n",
    "if__ = averaging_sentiments(if_,'date','Type','preview Sentiment_NLTK')\n",
    "brug_ = averaging_sentiments(brug,'date','Type','preview Sentiment_NLTK')\n",
    "\n",
    "#Cleanup for google news\n",
    "cleanup_type = {'Type':{'CLZ': 'crude oil','CNO':'coconut oil','PO_':'palm oil', 'RSO':'rapeseed oil','SBO':'soy','SFO':'sunflower oil'}}\n",
    "\n",
    "gn = gn.replace(cleanup_type)\n",
    "gn_ =  averaging_sentiments(gn,'date','Type','Sentiment_NLTK')\n",
    "gn_"
   ]
  },
  {
   "cell_type": "code",
   "execution_count": 126,
   "id": "fca28d49",
   "metadata": {},
   "outputs": [],
   "source": [
    "# Merging all the DF together\n",
    "sentiments = pd.merge(if__,twitter_,how=\"outer\",on = ['date','Type'])\n",
    "sentiments = pd.merge(sentiments,brug_,how=\"outer\",on = ['date','Type'])\n",
    "sentiments = pd.merge(sentiments,gn_,how=\"outer\",on = ['date','Type'])"
   ]
  },
  {
   "cell_type": "code",
   "execution_count": 127,
   "id": "3057be5c",
   "metadata": {},
   "outputs": [],
   "source": [
    "sentiments.sort_values(by = 'date')\n",
    "sentiments['avg'] = sentiments.iloc[:,2:6].mean(axis=1)\n",
    "sentiments['count'] = sentiments.iloc[:,2:6].count(axis=1)\n",
    "sentiments = sentiments[['date', 'Type', 'avg', 'count']]\n",
    "sentiments.to_csv('sentiments_.csv',index= False)"
   ]
  },
  {
   "cell_type": "code",
   "execution_count": 128,
   "id": "ec8b8bda",
   "metadata": {},
   "outputs": [
    {
     "data": {
      "text/plain": [
       "Index(['date', 'Type', 'avg', 'count'], dtype='object')"
      ]
     },
     "execution_count": 128,
     "metadata": {},
     "output_type": "execute_result"
    }
   ],
   "source": [
    "sentiments.columns"
   ]
  },
  {
   "cell_type": "code",
   "execution_count": 129,
   "id": "5d3eb938",
   "metadata": {},
   "outputs": [],
   "source": [
    "from datetime import datetime , timedelta"
   ]
  },
  {
   "cell_type": "code",
   "execution_count": 130,
   "id": "cb573208",
   "metadata": {},
   "outputs": [],
   "source": [
    "sent_ = pd.read_csv('./sentiments_.csv')"
   ]
  },
  {
   "cell_type": "code",
   "execution_count": 131,
   "id": "0af71471",
   "metadata": {},
   "outputs": [],
   "source": [
    "sent_['date'] = pd.to_datetime(sent_['date'])"
   ]
  },
  {
   "cell_type": "code",
   "execution_count": 132,
   "id": "bd01bbe0",
   "metadata": {},
   "outputs": [
    {
     "data": {
      "text/plain": [
       "1538"
      ]
     },
     "execution_count": 132,
     "metadata": {},
     "output_type": "execute_result"
    }
   ],
   "source": [
    "date_time_str = '01/01/2020'\n",
    "\n",
    "date_time_obj = datetime.strptime(date_time_str, '%m/%d/%Y')\n",
    "\n",
    "# Set the start date and the end date\n",
    "\n",
    "start = '01/01/2018'\n",
    "end = '03/19/2022'\n",
    "\n",
    "start = datetime.strptime(start, '%m/%d/%Y')\n",
    "end = datetime.strptime(end, '%m/%d/%Y')\n",
    "days_left = end - start\n",
    "days_left.days"
   ]
  },
  {
   "cell_type": "code",
   "execution_count": 133,
   "id": "8a9db845",
   "metadata": {},
   "outputs": [],
   "source": [
    "dates = []\n",
    "date_time_str = '01/01/2018'\n",
    "date_time_obj = datetime.strptime(date_time_str, '%m/%d/%Y')\n",
    "for x in range (days_left.days):\n",
    "    dates.append(date_time_obj )\n",
    "    date_time_obj = date_time_obj + timedelta(days = 1)"
   ]
  },
  {
   "cell_type": "code",
   "execution_count": 134,
   "id": "1cae3d07",
   "metadata": {},
   "outputs": [
    {
     "data": {
      "text/plain": [
       "0      2018-01-01\n",
       "1      2018-01-02\n",
       "2      2018-01-03\n",
       "3      2018-01-04\n",
       "4      2018-01-05\n",
       "          ...    \n",
       "1533   2022-03-14\n",
       "1534   2022-03-15\n",
       "1535   2022-03-16\n",
       "1536   2022-03-17\n",
       "1537   2022-03-18\n",
       "Name: date, Length: 1538, dtype: datetime64[ns]"
      ]
     },
     "execution_count": 134,
     "metadata": {},
     "output_type": "execute_result"
    }
   ],
   "source": [
    "sent_date = pd.DataFrame(dates,columns=['date'])\n",
    "sent_date['date']"
   ]
  },
  {
   "cell_type": "code",
   "execution_count": 135,
   "id": "0cbe5c2f",
   "metadata": {},
   "outputs": [
    {
     "data": {
      "text/plain": [
       "Index(['date', 'Type', 'avg', 'count'], dtype='object')"
      ]
     },
     "execution_count": 135,
     "metadata": {},
     "output_type": "execute_result"
    }
   ],
   "source": [
    "sent_.columns"
   ]
  },
  {
   "cell_type": "code",
   "execution_count": 136,
   "id": "c2f336e0",
   "metadata": {},
   "outputs": [],
   "source": [
    "sent_.sort_values(by = 'date', ascending=True)\n",
    "\n",
    "for x in sent_date['date'].unique():\n",
    "    temp  = sent_.loc[sent_['date'] == x]\n",
    "    for y in temp['Type'].unique():\n",
    "        #new_df_.loc[new_df['date'] == x, y] = temp['type']\n",
    "        sent_.loc[sent_['date'] == x, y] = ((((temp.loc[temp['Type'] == y])['avg']).values)[0])\n",
    "        sent_.loc[sent_['date'] == x, '{}_Count'.format(y)] = ((((temp.loc[temp['Type'] == y])['count']).values)[0])"
   ]
  },
  {
   "cell_type": "code",
   "execution_count": 137,
   "id": "208bedff",
   "metadata": {},
   "outputs": [],
   "source": [
    "# place 0 for days without news/ twitter\n",
    "sent_ = sent_.drop(['Type','avg','count'], axis=1)\n",
    "sent_ = sent_.fillna(0)\n",
    "sent_.to_csv('Sentiments_new_.csv',index=False)"
   ]
  },
  {
   "cell_type": "code",
   "execution_count": 139,
   "id": "612d7d78",
   "metadata": {},
   "outputs": [
    {
     "data": {
      "text/plain": [
       "\"def sentimental_analysis(df,x):\\n    df.loc[df[x] < 0 , '{}'.format(x)] = -1\\n    df.loc[df[x] == 0 , '{}'.format(x)] = 0\\n    df.loc[df[x] > 0 , '{}'.format(x)] = 1\\n    return df\\n\\nfor x in ['crude oil', 'palm oil', 'soy', 'sunflower oil', 'coconut oil',\\n       'rapeseed oil', 'energy', 'corn', 'wheat', 'gas', 'grains', 'ethanol',\\n       'market', 'gold', 's&p', 'commodity', 'cattle', 'silver', 'platinum']:\\n    sent_[x] = sent_[x].astype(float)\\n    test = sentimental_analysis(sent_,x)\""
      ]
     },
     "execution_count": 139,
     "metadata": {},
     "output_type": "execute_result"
    }
   ],
   "source": [
    "# if you want it to be binary values if not dont run it\n",
    "\n",
    "\"\"\"def sentimental_analysis(df,x):\n",
    "    df.loc[df[x] < 0 , '{}'.format(x)] = -1\n",
    "    df.loc[df[x] == 0 , '{}'.format(x)] = 0\n",
    "    df.loc[df[x] > 0 , '{}'.format(x)] = 1\n",
    "    return df\n",
    "\n",
    "for x in ['crude oil', 'palm oil', 'soy', 'sunflower oil', 'coconut oil',\n",
    "       'rapeseed oil', 'energy', 'corn', 'wheat', 'gas', 'grains', 'ethanol',\n",
    "       'market', 'gold', 's&p', 'commodity', 'cattle', 'silver', 'platinum']:\n",
    "    sent_[x] = sent_[x].astype(float)\n",
    "    test = sentimental_analysis(sent_,x)\"\"\""
   ]
  },
  {
   "cell_type": "code",
   "execution_count": null,
   "id": "b1d8e266",
   "metadata": {
    "scrolled": false
   },
   "outputs": [],
   "source": [
    "aggs = {}\n",
    "for x in sent_.columns:\n",
    "    if \"Count\" not in x and x != 'date':\n",
    "        aggs[x] = np.mean\n",
    "    if \"Count\" in x:  \n",
    "        aggs[x] = np.sum\n",
    "\n",
    "sentiment_subset = sent_.groupby([pd.Grouper(key='date', freq='M')]).agg(aggs).reset_index()\n"
   ]
  },
  {
   "cell_type": "code",
   "execution_count": 141,
   "id": "9a094d2b",
   "metadata": {},
   "outputs": [],
   "source": [
    "# Monthly sentiment dataset\n",
    "sentiment_subset.to_csv('Sentiments_new_m_continuous.csv',index = False)"
   ]
  },
  {
   "cell_type": "code",
   "execution_count": null,
   "id": "60ad6d8b",
   "metadata": {},
   "outputs": [],
   "source": []
  }
 ],
 "metadata": {
  "kernelspec": {
   "display_name": "Python 3",
   "language": "python",
   "name": "python3"
  },
  "language_info": {
   "codemirror_mode": {
    "name": "ipython",
    "version": 3
   },
   "file_extension": ".py",
   "mimetype": "text/x-python",
   "name": "python",
   "nbconvert_exporter": "python",
   "pygments_lexer": "ipython3",
   "version": "3.8.8"
  }
 },
 "nbformat": 4,
 "nbformat_minor": 5
}
